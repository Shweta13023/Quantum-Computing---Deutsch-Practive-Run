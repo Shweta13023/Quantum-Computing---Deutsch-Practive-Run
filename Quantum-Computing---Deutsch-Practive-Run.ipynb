{
 "cells": [
  {
   "cell_type": "code",
   "execution_count": 1,
   "id": "37457db7",
   "metadata": {},
   "outputs": [
    {
     "name": "stdout",
     "output_type": "stream",
     "text": [
      "Requirement already satisfied: Qiskit in c:\\users\\asus\\anaconda3\\lib\\site-packages (1.1.1)\n",
      "Requirement already satisfied: rustworkx>=0.14.0 in c:\\users\\asus\\anaconda3\\lib\\site-packages (from Qiskit) (0.14.2)\n",
      "Requirement already satisfied: typing-extensions in c:\\users\\asus\\anaconda3\\lib\\site-packages (from Qiskit) (4.10.0)\n",
      "Requirement already satisfied: python-dateutil>=2.8.0 in c:\\users\\asus\\anaconda3\\lib\\site-packages (from Qiskit) (2.8.2)\n",
      "Requirement already satisfied: symengine>=0.11 in c:\\users\\asus\\anaconda3\\lib\\site-packages (from Qiskit) (0.11.0)\n",
      "Requirement already satisfied: sympy>=1.3 in c:\\users\\asus\\anaconda3\\lib\\site-packages (from Qiskit) (1.10.1)\n",
      "Requirement already satisfied: scipy>=1.5 in c:\\users\\asus\\anaconda3\\lib\\site-packages (from Qiskit) (1.9.1)\n",
      "Requirement already satisfied: dill>=0.3 in c:\\users\\asus\\anaconda3\\lib\\site-packages (from Qiskit) (0.3.4)\n",
      "Requirement already satisfied: stevedore>=3.0.0 in c:\\users\\asus\\anaconda3\\lib\\site-packages (from Qiskit) (5.2.0)\n",
      "Requirement already satisfied: numpy<3,>=1.17 in c:\\users\\asus\\anaconda3\\lib\\site-packages (from Qiskit) (1.24.4)\n",
      "Requirement already satisfied: six>=1.5 in c:\\users\\asus\\anaconda3\\lib\\site-packages (from python-dateutil>=2.8.0->Qiskit) (1.16.0)\n",
      "Requirement already satisfied: pbr!=2.1.0,>=2.0.0 in c:\\users\\asus\\anaconda3\\lib\\site-packages (from stevedore>=3.0.0->Qiskit) (6.0.0)\n",
      "Requirement already satisfied: mpmath>=0.19 in c:\\users\\asus\\anaconda3\\lib\\site-packages (from sympy>=1.3->Qiskit) (1.2.1)\n",
      "Requirement already satisfied: qiskit in c:\\users\\asus\\anaconda3\\lib\\site-packages (1.1.1)\n",
      "Requirement already satisfied: typing-extensions in c:\\users\\asus\\anaconda3\\lib\\site-packages (from qiskit) (4.10.0)\n",
      "Requirement already satisfied: sympy>=1.3 in c:\\users\\asus\\anaconda3\\lib\\site-packages (from qiskit) (1.10.1)\n",
      "Requirement already satisfied: scipy>=1.5 in c:\\users\\asus\\anaconda3\\lib\\site-packages (from qiskit) (1.9.1)\n",
      "Requirement already satisfied: rustworkx>=0.14.0 in c:\\users\\asus\\anaconda3\\lib\\site-packages (from qiskit) (0.14.2)\n",
      "Requirement already satisfied: stevedore>=3.0.0 in c:\\users\\asus\\anaconda3\\lib\\site-packages (from qiskit) (5.2.0)\n",
      "Requirement already satisfied: numpy<3,>=1.17 in c:\\users\\asus\\anaconda3\\lib\\site-packages (from qiskit) (1.24.4)\n",
      "Requirement already satisfied: dill>=0.3 in c:\\users\\asus\\anaconda3\\lib\\site-packages (from qiskit) (0.3.4)\n",
      "Requirement already satisfied: python-dateutil>=2.8.0 in c:\\users\\asus\\anaconda3\\lib\\site-packages (from qiskit) (2.8.2)\n",
      "Requirement already satisfied: symengine>=0.11 in c:\\users\\asus\\anaconda3\\lib\\site-packages (from qiskit) (0.11.0)\n",
      "Requirement already satisfied: six>=1.5 in c:\\users\\asus\\anaconda3\\lib\\site-packages (from python-dateutil>=2.8.0->qiskit) (1.16.0)\n",
      "Requirement already satisfied: pbr!=2.1.0,>=2.0.0 in c:\\users\\asus\\anaconda3\\lib\\site-packages (from stevedore>=3.0.0->qiskit) (6.0.0)\n",
      "Requirement already satisfied: mpmath>=0.19 in c:\\users\\asus\\anaconda3\\lib\\site-packages (from sympy>=1.3->qiskit) (1.2.1)\n",
      "Requirement already satisfied: qiskit-aer in c:\\users\\asus\\anaconda3\\lib\\site-packages (0.13.3)\n",
      "Requirement already satisfied: numpy>=1.16.3 in c:\\users\\asus\\anaconda3\\lib\\site-packages (from qiskit-aer) (1.24.4)\n",
      "Requirement already satisfied: scipy>=1.0 in c:\\users\\asus\\anaconda3\\lib\\site-packages (from qiskit-aer) (1.9.1)\n",
      "Requirement already satisfied: qiskit>=0.45.0 in c:\\users\\asus\\anaconda3\\lib\\site-packages (from qiskit-aer) (1.1.1)\n",
      "Requirement already satisfied: psutil>=5 in c:\\users\\asus\\anaconda3\\lib\\site-packages (from qiskit-aer) (5.9.0)\n",
      "Requirement already satisfied: python-dateutil>=2.8.0 in c:\\users\\asus\\anaconda3\\lib\\site-packages (from qiskit>=0.45.0->qiskit-aer) (2.8.2)\n",
      "Requirement already satisfied: stevedore>=3.0.0 in c:\\users\\asus\\anaconda3\\lib\\site-packages (from qiskit>=0.45.0->qiskit-aer) (5.2.0)\n",
      "Requirement already satisfied: symengine>=0.11 in c:\\users\\asus\\anaconda3\\lib\\site-packages (from qiskit>=0.45.0->qiskit-aer) (0.11.0)\n",
      "Requirement already satisfied: sympy>=1.3 in c:\\users\\asus\\anaconda3\\lib\\site-packages (from qiskit>=0.45.0->qiskit-aer) (1.10.1)\n",
      "Requirement already satisfied: dill>=0.3 in c:\\users\\asus\\anaconda3\\lib\\site-packages (from qiskit>=0.45.0->qiskit-aer) (0.3.4)\n",
      "Requirement already satisfied: rustworkx>=0.14.0 in c:\\users\\asus\\anaconda3\\lib\\site-packages (from qiskit>=0.45.0->qiskit-aer) (0.14.2)\n",
      "Requirement already satisfied: typing-extensions in c:\\users\\asus\\anaconda3\\lib\\site-packages (from qiskit>=0.45.0->qiskit-aer) (4.10.0)\n",
      "Requirement already satisfied: six>=1.5 in c:\\users\\asus\\anaconda3\\lib\\site-packages (from python-dateutil>=2.8.0->qiskit>=0.45.0->qiskit-aer) (1.16.0)\n",
      "Requirement already satisfied: pbr!=2.1.0,>=2.0.0 in c:\\users\\asus\\anaconda3\\lib\\site-packages (from stevedore>=3.0.0->qiskit>=0.45.0->qiskit-aer) (6.0.0)\n",
      "Requirement already satisfied: mpmath>=0.19 in c:\\users\\asus\\anaconda3\\lib\\site-packages (from sympy>=1.3->qiskit>=0.45.0->qiskit-aer) (1.2.1)\n"
     ]
    }
   ],
   "source": [
    "#intall the given libraries\n",
    "!pip install Qiskit\n",
    "!pip install --user qiskit\n",
    "!pip install qiskit-aer\n",
    "\n"
   ]
  },
  {
   "cell_type": "code",
   "execution_count": 2,
   "id": "94c2f7ec",
   "metadata": {},
   "outputs": [],
   "source": [
    "#now importing the registered Libraries from the installed packages\n",
    "import qiskit\n",
    "from qiskit import transpile \n",
    "from qiskit import QuantumCircuit\n",
    "import numpy as np \n",
    "from qiskit_ibm_runtime import ( EstimatorV2 as Estimator , QiskitRuntimeService ,\n",
    "                               )\n",
    "from qiskit.quantum_info import Pauli , SparsePauliOp\n",
    "from qiskit.visualization import plot_histogram\n",
    "from qiskit import ClassicalRegister , QuantumRegister\n",
    "from qiskit.transpiler.preset_passmanagers import generate_preset_pass_manager\n",
    "from qiskit.circuit import Parameter , QuantumCircuit"
   ]
  },
  {
   "cell_type": "code",
   "execution_count": 3,
   "id": "99b5b797",
   "metadata": {},
   "outputs": [
    {
     "name": "stdout",
     "output_type": "stream",
     "text": [
      "the oracle return a balanced function\n"
     ]
    }
   ],
   "source": [
    "#Initializing two random values using the numpy \n",
    "oracleType = np.random.randint(2)\n",
    "oracleValue = np.random.randint(2)\n",
    "#giving the number of Qubits \n",
    "n = 7\n",
    "#setting up a condition to tell us about our function \n",
    "\n",
    "if oracleType == 0:\n",
    "    print( 'oracle return a constant value', oracleValue)\n",
    "else:\n",
    "    print('the oracle return a balanced function')\n",
    "    a = np.random.randint(1, 2**n) # parameter we use later in the example balance\n",
    "    "
   ]
  },
  {
   "cell_type": "code",
   "execution_count": 4,
   "id": "f364c554",
   "metadata": {},
   "outputs": [],
   "source": [
    "#initilze the quantum circuit \n",
    "\n",
    "qr = QuantumRegister(n+1)\n",
    "cr = ClassicalRegister(n)\n",
    "circuitname = 'Newname'\n",
    "djCircuit = QuantumCircuit(qr,cr) # make a quantum circuit object , from the classical and quantum register\n",
    "\n",
    "#Step -1\n",
    "djCircuit.x(qr[n]) # Applying the x gate also known as the not gate to the last qubit so that it is in the 1 state\n",
    "\n",
    "#step -2 usingt he hadamard gate for bringing the gates into the superposition state.\n",
    "for i in range( n+1):\n",
    "    djCircuit.h(qr[i])\n",
    "djCircuit.barrier() # this is for the visualization of the circuit and does not apply in the circuit operations\n",
    "\n",
    "#Step 3 apply the oracle function\n",
    "if oracleType == 0:\n",
    "    if oracleValue ==1:\n",
    "        djCircuit.x(qr[n]) # apply this if the function is constant at 1 \n",
    "    else:\n",
    "        dj.Circuit.id(qr[n]) # if the function is zero , apply this functionn\n",
    "#now if the function is balanced \n",
    "else:\n",
    "    for i in range (n):\n",
    "        if (a & ( 1<< i)):\n",
    "            djCircuit.cx(qr[i],qr[n])\n",
    "djCircuit.barrier()\n",
    "\n",
    "#step 4 : apply hadmard gate to first n qubits again\n",
    "for i in range(n):\n",
    "    djCircuit.h(qr[i])\n",
    "djCircuit.barrier(qr[i]) # these barriers are just for visual aid when we visualize the algorithm\n",
    "\n",
    "for i in range(n):\n",
    "    djCircuit.measure(qr[i],cr[i]) # this step will measure the qubit to classical bit\n",
    "\n",
    "    \n",
    "    \n"
   ]
  },
  {
   "cell_type": "code",
   "execution_count": 5,
   "id": "628f1383",
   "metadata": {},
   "outputs": [
    {
     "data": {
      "text/html": [
       "<pre style=\"word-wrap: normal;white-space: pre;background: #fff0;line-height: 1.1;font-family: &quot;Courier New&quot;,Courier,monospace\">      ┌───┐      ░                 ░ ┌───┐   ┌─┐                  \n",
       "q1_0: ┤ H ├──────░───■─────────────░─┤ H ├───┤M├──────────────────\n",
       "      ├───┤      ░   │             ░ ├───┤   └╥┘┌─┐               \n",
       "q1_1: ┤ H ├──────░───┼────■────────░─┤ H ├────╫─┤M├───────────────\n",
       "      ├───┤      ░   │    │        ░ ├───┤    ║ └╥┘┌─┐            \n",
       "q1_2: ┤ H ├──────░───┼────┼────────░─┤ H ├────╫──╫─┤M├────────────\n",
       "      ├───┤      ░   │    │        ░ ├───┤    ║  ║ └╥┘┌─┐         \n",
       "q1_3: ┤ H ├──────░───┼────┼────────░─┤ H ├────╫──╫──╫─┤M├─────────\n",
       "      ├───┤      ░   │    │        ░ ├───┤    ║  ║  ║ └╥┘┌─┐      \n",
       "q1_4: ┤ H ├──────░───┼────┼────────░─┤ H ├────╫──╫──╫──╫─┤M├──────\n",
       "      ├───┤      ░   │    │        ░ ├───┤    ║  ║  ║  ║ └╥┘┌─┐   \n",
       "q1_5: ┤ H ├──────░───┼────┼────────░─┤ H ├────╫──╫──╫──╫──╫─┤M├───\n",
       "      ├───┤      ░   │    │        ░ ├───┤ ░  ║  ║  ║  ║  ║ └╥┘┌─┐\n",
       "q1_6: ┤ H ├──────░───┼────┼────■───░─┤ H ├─░──╫──╫──╫──╫──╫──╫─┤M├\n",
       "      ├───┤┌───┐ ░ ┌─┴─┐┌─┴─┐┌─┴─┐ ░ └───┘ ░  ║  ║  ║  ║  ║  ║ └╥┘\n",
       "q1_7: ┤ X ├┤ H ├─░─┤ X ├┤ X ├┤ X ├─░──────────╫──╫──╫──╫──╫──╫──╫─\n",
       "      └───┘└───┘ ░ └───┘└───┘└───┘ ░          ║  ║  ║  ║  ║  ║  ║ \n",
       "c0: 7/════════════════════════════════════════╩══╩══╩══╩══╩══╩══╩═\n",
       "                                              0  1  2  3  4  5  6 </pre>"
      ],
      "text/plain": [
       "      ┌───┐      ░                 ░ ┌───┐   ┌─┐                  \n",
       "q1_0: ┤ H ├──────░───■─────────────░─┤ H ├───┤M├──────────────────\n",
       "      ├───┤      ░   │             ░ ├───┤   └╥┘┌─┐               \n",
       "q1_1: ┤ H ├──────░───┼────■────────░─┤ H ├────╫─┤M├───────────────\n",
       "      ├───┤      ░   │    │        ░ ├───┤    ║ └╥┘┌─┐            \n",
       "q1_2: ┤ H ├──────░───┼────┼────────░─┤ H ├────╫──╫─┤M├────────────\n",
       "      ├───┤      ░   │    │        ░ ├───┤    ║  ║ └╥┘┌─┐         \n",
       "q1_3: ┤ H ├──────░───┼────┼────────░─┤ H ├────╫──╫──╫─┤M├─────────\n",
       "      ├───┤      ░   │    │        ░ ├───┤    ║  ║  ║ └╥┘┌─┐      \n",
       "q1_4: ┤ H ├──────░───┼────┼────────░─┤ H ├────╫──╫──╫──╫─┤M├──────\n",
       "      ├───┤      ░   │    │        ░ ├───┤    ║  ║  ║  ║ └╥┘┌─┐   \n",
       "q1_5: ┤ H ├──────░───┼────┼────────░─┤ H ├────╫──╫──╫──╫──╫─┤M├───\n",
       "      ├───┤      ░   │    │        ░ ├───┤ ░  ║  ║  ║  ║  ║ └╥┘┌─┐\n",
       "q1_6: ┤ H ├──────░───┼────┼────■───░─┤ H ├─░──╫──╫──╫──╫──╫──╫─┤M├\n",
       "      ├───┤┌───┐ ░ ┌─┴─┐┌─┴─┐┌─┴─┐ ░ └───┘ ░  ║  ║  ║  ║  ║  ║ └╥┘\n",
       "q1_7: ┤ X ├┤ H ├─░─┤ X ├┤ X ├┤ X ├─░──────────╫──╫──╫──╫──╫──╫──╫─\n",
       "      └───┘└───┘ ░ └───┘└───┘└───┘ ░          ║  ║  ║  ║  ║  ║  ║ \n",
       "c0: 7/════════════════════════════════════════╩══╩══╩══╩══╩══╩══╩═\n",
       "                                              0  1  2  3  4  5  6 "
      ]
     },
     "execution_count": 5,
     "metadata": {},
     "output_type": "execute_result"
    }
   ],
   "source": [
    "djCircuit.draw(output =\"text\" , scale = .25)"
   ]
  },
  {
   "cell_type": "code",
   "execution_count": 6,
   "id": "5897e0cc",
   "metadata": {},
   "outputs": [
    {
     "name": "stdout",
     "output_type": "stream",
     "text": [
      "Available backends: ['ibm_osaka', 'ibm_sherbrooke', 'ibm_brisbane', 'ibm_kyoto']\n",
      "Available simulator backends: []\n",
      "No simulator backends available.\n"
     ]
    }
   ],
   "source": [
    "#checking for the available simulatos\n",
    "# Replace 'your_api_key' with your actual IBM Quantum API key\n",
    "api_key = '699d9fcdc825a6caa6b3818e29b52f5647eae9e012581677000b5d145efd584772b02080be306460cc5bdaf561f2633e44bb33c88193b859437f900771cb3694'\n",
    "\n",
    "# Initialize the service\n",
    "service = QiskitRuntimeService(channel='ibm_quantum', token=api_key)\n",
    "\n",
    "# List all available backends\n",
    "available_backends = service.backends()\n",
    "print(\"Available backends:\", [backend.name for backend in available_backends])\n",
    "\n",
    "# Filter to get only simulator backends\n",
    "simulator_backends = [backend for backend in available_backends if 'simulator' in backend.name]\n",
    "print(\"Available simulator backends:\", [backend.name for backend in simulator_backends])\n",
    "\n",
    "# Use a simulator backend\n",
    "if simulator_backends:\n",
    "    backend_sim = simulator_backends[0]\n",
    "    print(\"Using simulator backend:\", backend_sim.name)\n",
    "else:\n",
    "    print(\"No simulator backends available.\")"
   ]
  },
  {
   "cell_type": "code",
   "execution_count": 7,
   "id": "d9d23c9d",
   "metadata": {
    "scrolled": true
   },
   "outputs": [],
   "source": [
    "#now setting up the backend:\n",
    "#generating the api_key using the IBM site \n",
    "api_key = '699d9fcdc825a6caa6b3818e29b52f5647eae9e012581677000b5d145efd584772b02080be306460cc5bdaf561f2633e44bb33c88193b859437f900771cb3694'\n",
    "\n",
    "#Running the algorithm help us to make sure that our algorithm is working well on the simulators well first and then we can connect it with the actuall computers.\n",
    "\n",
    "service = QiskitRuntimeService( channel = 'ibm_quantum', token = api_key)\n",
    "#backend_sim = service.get_backend('ibm_qasm_simulator') #choose the simulator\n",
    "backend_qc = service.get_backend('ibm_brisbane') # brisbane is the name of the simulator we are going to use to run our alogorithm.\n",
    "#brisbane is a 127 qubit processor made publicly available by IBM to be used by the programmers."
   ]
  },
  {
   "cell_type": "code",
   "execution_count": null,
   "id": "6fc3302c",
   "metadata": {},
   "outputs": [],
   "source": [
    "backend = backend_qc \n",
    "transpiled_circuit = transpile(djCircuit , backend = backend)\n",
    "# transpiled means converting a  code into gates for specific quantum computer and plot the results.\n",
    "job = backend.run(transpiled_circuit , shots = 1000)\n",
    "results = job.result()\n",
    "answer = results.get_counts()"
   ]
  },
  {
   "cell_type": "code",
   "execution_count": null,
   "id": "72ea4052",
   "metadata": {},
   "outputs": [],
   "source": [
    "#writing the code to get visualize the output.\n",
    "\n",
    "#add a filter to avoid plotting states that are only measure a few times.\n",
    "threshold = int( 0.01*1000)\n",
    "filterAnswer = { k: v for k , v in answer.items() if v>= threshold} # filter the answer for better view of plots.\n",
    "removedCounts = np.sum([ v for k,v in answer.items()if v < threshold]) # number of counts removed.\n",
    "filterAnswer['other_bitstrings'] = removedCounts # the removed counts are assigned to a new index\n",
    "\n",
    "plot_histogram(filterAnswer)"
   ]
  },
  {
   "cell_type": "code",
   "execution_count": null,
   "id": "80b01580",
   "metadata": {},
   "outputs": [],
   "source": []
  },
  {
   "cell_type": "code",
   "execution_count": null,
   "id": "3af295f7",
   "metadata": {},
   "outputs": [],
   "source": []
  }
 ],
 "metadata": {
  "kernelspec": {
   "display_name": "Python 3 (ipykernel)",
   "language": "python",
   "name": "python3"
  },
  "language_info": {
   "codemirror_mode": {
    "name": "ipython",
    "version": 3
   },
   "file_extension": ".py",
   "mimetype": "text/x-python",
   "name": "python",
   "nbconvert_exporter": "python",
   "pygments_lexer": "ipython3",
   "version": "3.9.13"
  }
 },
 "nbformat": 4,
 "nbformat_minor": 5
}
